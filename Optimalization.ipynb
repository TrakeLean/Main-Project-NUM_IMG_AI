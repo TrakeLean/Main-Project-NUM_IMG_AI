{
 "cells": [
  {
   "cell_type": "code",
   "execution_count": null,
   "metadata": {},
   "outputs": [],
   "source": [
    "import os\n",
    "import cv2 as cv\n",
    "import numpy as np\n",
    "import tensorflow as tf\n",
    "import tensorflow_datasets as tfds\n",
    "from tensorflow.keras.datasets import mnist"
   ]
  },
  {
   "cell_type": "code",
   "execution_count": 11,
   "metadata": {},
   "outputs": [],
   "source": [
    "# from PIL import Image\n",
    "# import glob\n",
    "# import os\n",
    "\n",
    "# # new folder path (may need to alter for Windows OS)\n",
    "# # change path to your path\n",
    "# path = '/Users/tareklein/Downloads/archive/train/plus cleaned' #the path where to save resized images\n",
    "# # create new folder\n",
    "# if not os.path.exists(path):\n",
    "#     os.makedirs(path)\n",
    "\n",
    "# # loop over existing images and resize\n",
    "# # change path to your path\n",
    "# for filename in glob.glob(path + '/*.jpg'): #path of raw images\n",
    "#     img = Image.open(filename).resize((28,28))\n",
    "#     # save resized images to new folder with existing filename\n",
    "#     img.save('{}{}{}'.format(path,'/',os.path.split(filename)[1]))"
   ]
  },
  {
   "cell_type": "code",
   "execution_count": null,
   "metadata": {},
   "outputs": [],
   "source": [
    "def normalize_img(image, label):\n",
    "    return (tf.cast(image, tf.float32) / 255.0, label)"
   ]
  },
  {
   "cell_type": "code",
   "execution_count": null,
   "metadata": {},
   "outputs": [],
   "source": [
    "\n",
    "dataset = 'mnist_corrupted'\n",
    "#dataset = 'mnist'\n",
    "\n",
    "(train_dataset, test_dataset), ds_info = tfds.load(\n",
    "    dataset,\n",
    "    split=['train', 'test'],\n",
    "    shuffle_files=True,\n",
    "    as_supervised=True,\n",
    "    with_info=True\n",
    "    )"
   ]
  },
  {
   "cell_type": "code",
   "execution_count": null,
   "metadata": {},
   "outputs": [],
   "source": [
    "#(X_train, y_train), (X_test, y_test) = mnist.load_data()\n",
    "\n",
    "# train_dataset = tf.data.Dataset.from_tensor_slices((X_train, y_train))\n",
    "\n",
    "train_dataset = train_dataset.map(normalize_img, num_parallel_calls=tf.data.AUTOTUNE)\n",
    "\n",
    "# Store dataset in cache\n",
    "train_dataset = train_dataset.cache()\n",
    "# Shuffle data\n",
    "train_dataset = train_dataset.shuffle(len(train_dataset))\n",
    "# Split up into a batch of 64\n",
    "train_dataset = train_dataset.batch(64)\n",
    "# Grab other stuff before it done dealing with current stuff\n",
    "# Optimization \n",
    "train_dataset = train_dataset.prefetch(tf.data.AUTOTUNE)\n"
   ]
  },
  {
   "cell_type": "code",
   "execution_count": null,
   "metadata": {},
   "outputs": [],
   "source": [
    "#test_dataset = tf.data.Dataset.from_tensor_slices((X_test, y_test))\n",
    "\n",
    "test_dataset = test_dataset.map(normalize_img, num_parallel_calls=tf.data.AUTOTUNE)\n",
    "\n",
    "# Split up into a batch of 64\n",
    "test_dataset = test_dataset.batch(64)\n",
    "# Store dataset in cache\n",
    "test_dataset = test_dataset.cache()\n",
    "# Grab other stuff before it done dealing with current stuff\n",
    "# Optimization \n",
    "test_dataset = test_dataset.prefetch(tf.data.AUTOTUNE)"
   ]
  },
  {
   "cell_type": "code",
   "execution_count": null,
   "metadata": {},
   "outputs": [],
   "source": [
    "# Visualise image tensor (batch has to be 1)\n",
    "visualise = False\n",
    "if visualise: \n",
    "    for (img, label) in train_dataset:\n",
    "        print(img.numpy(), label.numpy())\n",
    "        break\n",
    "    else:\n",
    "        pass"
   ]
  },
  {
   "cell_type": "code",
   "execution_count": null,
   "metadata": {},
   "outputs": [],
   "source": [
    "model = tf.keras.models.Sequential([\n",
    "    tf.keras.Input((28,28,1)),\n",
    "    tf.keras.layers.Flatten(),\n",
    "    tf.keras.layers.Dense(256, activation='relu'),\n",
    "    tf.keras.layers.Dense(256, activation='relu'),\n",
    "    tf.keras.layers.Dense(10, activation='softmax')\n",
    "])\n",
    "\n",
    "model.compile(optimizer=tf.keras.optimizers.Adam(learning_rate=0.001),\n",
    "              loss=tf.keras.losses.SparseCategoricalCrossentropy(),\n",
    "              metrics=['accuracy'])\n",
    "\n",
    "model.fit(train_dataset, epochs=100, validation_data=(train_dataset))\n",
    "\n",
    "\n",
    "model.save('handwritten.model')\n",
    "#model.summary()"
   ]
  },
  {
   "cell_type": "code",
   "execution_count": null,
   "metadata": {},
   "outputs": [],
   "source": [
    "model = tf.keras.models.load_model('handwritten.model')\n",
    "\n",
    "loss, accuracy = model.evaluate(train_dataset)\n",
    "\n",
    "print(loss)\n",
    "print(accuracy)"
   ]
  },
  {
   "cell_type": "code",
   "execution_count": null,
   "metadata": {},
   "outputs": [],
   "source": [
    "# from matplotlib.lines import lineStyles\n",
    "# import matplotlib.pyplot as plt\n",
    "# plt.figure(figsize=(18,8))\n",
    "# plt.plot(0,0, history.history['accuracy'], label='Accuracy', lw=3)\n",
    "# plt.plot(0,0, history.history['loss'], label='Loss', lw=3, linestyle='--')\n",
    "# plt.legend\n"
   ]
  },
  {
   "cell_type": "code",
   "execution_count": null,
   "metadata": {},
   "outputs": [],
   "source": [
    "def rescaleFrame(frame, scale):\n",
    "    width = int(frame.shape[1] * scale)\n",
    "    height = int(frame.shape[1] * scale)\n",
    "    print(width, height)\n",
    "    dimensions = (width, height)\n",
    "    \n",
    "    return cv.resize(frame, dimensions, interpolation=cv.INTER_AREA)"
   ]
  },
  {
   "cell_type": "code",
   "execution_count": null,
   "metadata": {},
   "outputs": [],
   "source": [
    "capture = cv.VideoCapture(0)\n",
    "scale = 0.50\n",
    "\n",
    "while True:\n",
    "    isTrue, frame = capture.read()\n",
    "    frame_resized = rescaleFrame(frame, scale)\n",
    "\n",
    "    # Grayscaled\n",
    "    gray = cv.cvtColor(frame_resized, cv.COLOR_BGR2GRAY)\n",
    "    gray_28 = cv.resize(gray, (28,28), interpolation=cv.INTER_AREA)\n",
    "    \n",
    "    gray_28 = gray_28.astype(\"float32\") / 255.0\n",
    "    gray_28 = np.expand_dims(gray_28, axis=-1)\n",
    "    \n",
    "    prediction = model.predict(gray_28.reshape(1,28,28))\n",
    "    predargmax = np.argmax(prediction)\n",
    "\n",
    "    # Black and white\n",
    "    range = (150, 255)\n",
    "    #range = (125, 255)\n",
    "    ret, thresh = cv.threshold(gray, range[0], range[1], cv.THRESH_BINARY)\n",
    "    contours, hierarchies = cv.findContours(thresh, cv.RETR_LIST, cv.CHAIN_APPROX_SIMPLE)\n",
    "\n",
    "    # 28\n",
    "    ret_28, thresh_28 = cv.threshold(gray, range[0], range[1], cv.THRESH_BINARY)\n",
    "    thresh_28 = cv.resize(thresh_28, (28,28), interpolation=cv.INTER_AREA)\n",
    "    contours_28, hierarchies_28 = cv.findContours(thresh_28, cv.RETR_LIST, cv.CHAIN_APPROX_SIMPLE)\n",
    "    thresh_28 = thresh_28.astype(\"float32\") / 255.0\n",
    "    thresh_28 = np.expand_dims(thresh_28, axis=-1)\n",
    "    \n",
    "    \n",
    "    prediction_thresh_28 = model.predict(thresh_28.reshape(1,28,28))\n",
    "    predargmax_thresh_28 = np.argmax(prediction_thresh_28)\n",
    "\n",
    "\n",
    "    cv.putText(gray, 'Gray: ' + str(predargmax), (20,40), cv.FONT_HERSHEY_SIMPLEX, 1, (0,255,0), 2)\n",
    "    cv.putText(gray, 'B&W: ' + str(predargmax_thresh_28), (20,80), cv.FONT_HERSHEY_SIMPLEX, 1, (255,255,0), 2)\n",
    "    \n",
    "    cv.imshow('Gray scale', gray)\n",
    "    cv.imshow('Black & White (gray threshold)', thresh)\n",
    "    cv.imshow('Black & White (gray threshold) 28x28', thresh_28)\n",
    "    \n",
    "    cv.moveWindow('Black & White (gray threshold)', cv.getWindowImageRect('Gray scale')[2], 0)\n",
    "    cv.moveWindow('Black & White (gray threshold) 28x28', cv.getWindowImageRect('Gray scale')[2], 0)\n",
    "   \n",
    "\n",
    "    if cv.waitKey(100) & 0xFF==ord('q'):\n",
    "        break\n",
    "    \n",
    "capture.release()\n",
    "cv.waitKey(100)\n",
    "cv.destroyAllWindows()\n",
    "cv.waitKey(100)"
   ]
  }
 ],
 "metadata": {
  "kernelspec": {
   "display_name": "Python 3.9.13 64-bit",
   "language": "python",
   "name": "python3"
  },
  "language_info": {
   "codemirror_mode": {
    "name": "ipython",
    "version": 3
   },
   "file_extension": ".py",
   "mimetype": "text/x-python",
   "name": "python",
   "nbconvert_exporter": "python",
   "pygments_lexer": "ipython3",
   "version": "3.9.13"
  },
  "orig_nbformat": 4,
  "vscode": {
   "interpreter": {
    "hash": "a665b5d41d17b532ea9890333293a1b812fa0b73c9c25c950b3cedf1bebd0438"
   }
  }
 },
 "nbformat": 4,
 "nbformat_minor": 2
}
