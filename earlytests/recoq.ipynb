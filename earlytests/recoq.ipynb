{
 "cells": [
  {
   "cell_type": "code",
   "execution_count": 1,
   "metadata": {},
   "outputs": [],
   "source": [
    "import cv2 as cv"
   ]
  },
  {
   "cell_type": "code",
   "execution_count": 2,
   "metadata": {},
   "outputs": [],
   "source": [
    "def rescaleFrame(frame, scale):\n",
    "    width = int(frame.shape[1] * scale)\n",
    "    height = int(frame.shape[0] * scale)\n",
    "    dimensions = (width, height)\n",
    "    \n",
    "    return cv.resize(frame, dimensions, interpolation=cv.INTER_AREA)"
   ]
  },
  {
   "cell_type": "code",
   "execution_count": 3,
   "metadata": {},
   "outputs": [
    {
     "data": {
      "text/plain": [
       "-1"
      ]
     },
     "execution_count": 3,
     "metadata": {},
     "output_type": "execute_result"
    }
   ],
   "source": [
    "capture = cv.VideoCapture(0)\n",
    "scale = 0.40\n",
    "\n",
    "while True:\n",
    "    isTrue, frame = capture.read()\n",
    "    frame_resized = rescaleFrame(frame, scale)\n",
    "    # Grayscaled\n",
    "    gray = cv.cvtColor(frame_resized, cv.COLOR_BGR2GRAY)\n",
    "    # Edge detection\n",
    "    edge = cv.Canny(frame_resized, 125, 175)\n",
    "    # Gray threshold, black/white\n",
    "    ret, thresh = cv.threshold(gray, 125, 255, cv.THRESH_BINARY)\n",
    "    contours, hierarchies = cv.findContours(thresh, cv.RETR_LIST, cv.CHAIN_APPROX_SIMPLE)\n",
    "    \n",
    "    # Face\n",
    "    haar_cascade = cv.CascadeClassifier('haar_face.xml')\n",
    "    faces_rect = haar_cascade.detectMultiScale(gray, scaleFactor=1.1, minNeighbors=3)\n",
    "    \n",
    "    for (x,y,w,h) in faces_rect:\n",
    "        cv.rectangle(frame_resized, (x,y), (x+y, y+h), (0,255,0), thickness=2)\n",
    "    \n",
    "    #cv.imshow('Resized', gray)\n",
    "    #cv.imshow('Edge', edge)\n",
    "    #cv.imshow('Threshold', thresh)\n",
    "    cv.imshow('Face', frame_resized)\n",
    "    \n",
    "    if cv.waitKey(20) & 0xFF==ord('q'):\n",
    "        break\n",
    "\n",
    "capture.release()\n",
    "cv.destroyAllWindows()\n",
    "cv.waitKey(1)"
   ]
  }
 ],
 "metadata": {
  "kernelspec": {
   "display_name": "Python 3.9.13 64-bit",
   "language": "python",
   "name": "python3"
  },
  "language_info": {
   "codemirror_mode": {
    "name": "ipython",
    "version": 3
   },
   "file_extension": ".py",
   "mimetype": "text/x-python",
   "name": "python",
   "nbconvert_exporter": "python",
   "pygments_lexer": "ipython3",
   "version": "3.9.13"
  },
  "orig_nbformat": 4,
  "vscode": {
   "interpreter": {
    "hash": "a665b5d41d17b532ea9890333293a1b812fa0b73c9c25c950b3cedf1bebd0438"
   }
  }
 },
 "nbformat": 4,
 "nbformat_minor": 2
}
